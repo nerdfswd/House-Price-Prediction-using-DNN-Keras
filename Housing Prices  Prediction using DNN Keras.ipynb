{
 "cells": [
  {
   "cell_type": "code",
   "execution_count": 37,
   "metadata": {},
   "outputs": [],
   "source": [
    "import keras\n",
    "import numpy as np\n",
    "import pandas as pd\n",
    "import tensorflow as tf\n",
    "import matplotlib.pyplot as plt"
   ]
  },
  {
   "cell_type": "code",
   "execution_count": 4,
   "metadata": {},
   "outputs": [
    {
     "data": {
      "text/html": [
       "<div>\n",
       "<style scoped>\n",
       "    .dataframe tbody tr th:only-of-type {\n",
       "        vertical-align: middle;\n",
       "    }\n",
       "\n",
       "    .dataframe tbody tr th {\n",
       "        vertical-align: top;\n",
       "    }\n",
       "\n",
       "    .dataframe thead th {\n",
       "        text-align: right;\n",
       "    }\n",
       "</style>\n",
       "<table border=\"1\" class=\"dataframe\">\n",
       "  <thead>\n",
       "    <tr style=\"text-align: right;\">\n",
       "      <th></th>\n",
       "      <th>YearBuilt</th>\n",
       "      <th>2ndFlrSF</th>\n",
       "      <th>GrLivArea</th>\n",
       "      <th>FullBath</th>\n",
       "      <th>HalfBath</th>\n",
       "      <th>BedroomAbvGr</th>\n",
       "      <th>TotRmsAbvGrd</th>\n",
       "      <th>YrSold</th>\n",
       "      <th>SalePrice</th>\n",
       "    </tr>\n",
       "  </thead>\n",
       "  <tbody>\n",
       "    <tr>\n",
       "      <th>0</th>\n",
       "      <td>2003</td>\n",
       "      <td>854</td>\n",
       "      <td>1710</td>\n",
       "      <td>2</td>\n",
       "      <td>1</td>\n",
       "      <td>3</td>\n",
       "      <td>8</td>\n",
       "      <td>2008</td>\n",
       "      <td>208500</td>\n",
       "    </tr>\n",
       "    <tr>\n",
       "      <th>1</th>\n",
       "      <td>1976</td>\n",
       "      <td>0</td>\n",
       "      <td>1262</td>\n",
       "      <td>2</td>\n",
       "      <td>0</td>\n",
       "      <td>3</td>\n",
       "      <td>6</td>\n",
       "      <td>2007</td>\n",
       "      <td>181500</td>\n",
       "    </tr>\n",
       "    <tr>\n",
       "      <th>2</th>\n",
       "      <td>2001</td>\n",
       "      <td>866</td>\n",
       "      <td>1786</td>\n",
       "      <td>2</td>\n",
       "      <td>1</td>\n",
       "      <td>3</td>\n",
       "      <td>6</td>\n",
       "      <td>2008</td>\n",
       "      <td>223500</td>\n",
       "    </tr>\n",
       "    <tr>\n",
       "      <th>3</th>\n",
       "      <td>1915</td>\n",
       "      <td>756</td>\n",
       "      <td>1717</td>\n",
       "      <td>1</td>\n",
       "      <td>0</td>\n",
       "      <td>3</td>\n",
       "      <td>7</td>\n",
       "      <td>2006</td>\n",
       "      <td>140000</td>\n",
       "    </tr>\n",
       "    <tr>\n",
       "      <th>4</th>\n",
       "      <td>2000</td>\n",
       "      <td>1053</td>\n",
       "      <td>2198</td>\n",
       "      <td>2</td>\n",
       "      <td>1</td>\n",
       "      <td>4</td>\n",
       "      <td>9</td>\n",
       "      <td>2008</td>\n",
       "      <td>250000</td>\n",
       "    </tr>\n",
       "  </tbody>\n",
       "</table>\n",
       "</div>"
      ],
      "text/plain": [
       "   YearBuilt  2ndFlrSF  GrLivArea  FullBath  HalfBath  BedroomAbvGr  \\\n",
       "0       2003       854       1710         2         1             3   \n",
       "1       1976         0       1262         2         0             3   \n",
       "2       2001       866       1786         2         1             3   \n",
       "3       1915       756       1717         1         0             3   \n",
       "4       2000      1053       2198         2         1             4   \n",
       "\n",
       "   TotRmsAbvGrd  YrSold  SalePrice  \n",
       "0             8    2008     208500  \n",
       "1             6    2007     181500  \n",
       "2             6    2008     223500  \n",
       "3             7    2006     140000  \n",
       "4             9    2008     250000  "
      ]
     },
     "execution_count": 4,
     "metadata": {},
     "output_type": "execute_result"
    }
   ],
   "source": [
    "df=pd.read_csv(r'Downloads/HousingPrices.csv')\n",
    "df.head()"
   ]
  },
  {
   "cell_type": "code",
   "execution_count": 5,
   "metadata": {},
   "outputs": [],
   "source": [
    "x=df.drop(columns=['SalePrice'])\n",
    "y=df[['SalePrice']]"
   ]
  },
  {
   "cell_type": "code",
   "execution_count": 42,
   "metadata": {},
   "outputs": [],
   "source": [
    "#building model\n",
    "model=tf.keras.models.Sequential()\n",
    "\n",
    "model.add(tf.keras.layers.Dense(8, activation='relu', input_shape=(8,)))\n",
    "model.add(tf.keras.layers.Dense(8, activation='relu'))\n",
    "model.add(tf.keras.layers.Dense(1))\n",
    "\n",
    "model.compile(optimizer='adam', loss='mean_squared_error')"
   ]
  },
  {
   "cell_type": "code",
   "execution_count": 43,
   "metadata": {},
   "outputs": [
    {
     "name": "stdout",
     "output_type": "stream",
     "text": [
      "WARNING:tensorflow:Falling back from v2 loop because of error: Failed to find data adapter that can handle input: <class 'pandas.core.frame.DataFrame'>, <class 'NoneType'>\n",
      "Train on 1460 samples\n",
      "Epoch 1/30\n",
      "1280/1460 [=========================>....] - ETA: 0s - loss: 38188437196.8000WARNING:tensorflow:Early stopping conditioned on metric `val_loss` which is not available. Available metrics are: loss\n",
      "1460/1460 [==============================] - 0s 313us/sample - loss: 39049084602.5644\n",
      "Epoch 2/30\n",
      "1216/1460 [=======================>......] - ETA: 0s - loss: 39219468234.1053WARNING:tensorflow:Early stopping conditioned on metric `val_loss` which is not available. Available metrics are: loss\n",
      "1460/1460 [==============================] - 0s 192us/sample - loss: 39021407268.4712\n",
      "Epoch 3/30\n",
      "1344/1460 [==========================>...] - ETA: 0s - loss: 39497047966.4762WARNING:tensorflow:Early stopping conditioned on metric `val_loss` which is not available. Available metrics are: loss\n",
      "1460/1460 [==============================] - 0s 180us/sample - loss: 38983579777.0521\n",
      "Epoch 4/30\n",
      "1216/1460 [=======================>......] - ETA: 0s - loss: 38993252405.8947WARNING:tensorflow:Early stopping conditioned on metric `val_loss` which is not available. Available metrics are: loss\n",
      "1460/1460 [==============================] - 0s 186us/sample - loss: 38895533967.7808\n",
      "Epoch 5/30\n",
      "1440/1460 [============================>.] - ETA: 0s - loss: 38322711802.3111WARNING:tensorflow:Early stopping conditioned on metric `val_loss` which is not available. Available metrics are: loss\n",
      "1460/1460 [==============================] - 0s 219us/sample - loss: 38689981392.3069\n",
      "Epoch 6/30\n",
      "1344/1460 [==========================>...] - ETA: 0s - loss: 38458413543.6190WARNING:tensorflow:Early stopping conditioned on metric `val_loss` which is not available. Available metrics are: loss\n",
      "1460/1460 [==============================] - 0s 192us/sample - loss: 38366706320.4822\n",
      "Epoch 7/30\n",
      "1184/1460 [=======================>......] - ETA: 0s - loss: 38397778528.8649- ETA: 0s - loss: 34037695251.6WARNING:tensorflow:Early stopping conditioned on metric `val_loss` which is not available. Available metrics are: loss\n",
      "1460/1460 [==============================] - 0s 195us/sample - loss: 37918757380.2082\n",
      "Epoch 8/30\n",
      "1248/1460 [========================>.....] - ETA: 0s - loss: 37502910621.5385WARNING:tensorflow:Early stopping conditioned on metric `val_loss` which is not available. Available metrics are: loss\n",
      "1460/1460 [==============================] - 0s 208us/sample - loss: 37335217631.7370\n",
      "Epoch 9/30\n",
      "1440/1460 [============================>.] - ETA: 0s - loss: 36367221236.6222WARNING:tensorflow:Early stopping conditioned on metric `val_loss` which is not available. Available metrics are: loss\n",
      "1460/1460 [==============================] - 0s 236us/sample - loss: 36602679733.6548\n",
      "Epoch 10/30\n",
      "1376/1460 [===========================>..] - ETA: 0s - loss: 35542121400.5581WARNING:tensorflow:Early stopping conditioned on metric `val_loss` which is not available. Available metrics are: loss\n",
      "1460/1460 [==============================] - 0s 181us/sample - loss: 35711656811.3096\n",
      "Epoch 11/30\n",
      "1280/1460 [=========================>....] - ETA: 0s - loss: 35393679308.8000WARNING:tensorflow:Early stopping conditioned on metric `val_loss` which is not available. Available metrics are: loss\n",
      "1460/1460 [==============================] - 0s 187us/sample - loss: 34663356477.7206\n",
      "Epoch 12/30\n",
      "1376/1460 [===========================>..] - ETA: 0s - loss: 33710495077.2093WARNING:tensorflow:Early stopping conditioned on metric `val_loss` which is not available. Available metrics are: loss\n",
      "1460/1460 [==============================] - 0s 201us/sample - loss: 33451445043.2000\n",
      "Epoch 13/30\n",
      "1184/1460 [=======================>......] - ETA: 0s - loss: 32175943237.1892WARNING:tensorflow:Early stopping conditioned on metric `val_loss` which is not available. Available metrics are: loss\n",
      "1460/1460 [==============================] - 0s 212us/sample - loss: 32081254360.7233\n",
      "Epoch 14/30\n",
      "1408/1460 [===========================>..] - ETA: 0s - loss: 30806772317.0909WARNING:tensorflow:Early stopping conditioned on metric `val_loss` which is not available. Available metrics are: loss\n",
      "1460/1460 [==============================] - 0s 170us/sample - loss: 30570865116.9315\n",
      "Epoch 15/30\n",
      "1248/1460 [========================>.....] - ETA: 0s - loss: 28559538596.1026WARNING:tensorflow:Early stopping conditioned on metric `val_loss` which is not available. Available metrics are: loss\n",
      "1460/1460 [==============================] - 0s 204us/sample - loss: 28920529625.4247\n",
      "Epoch 16/30\n",
      "1440/1460 [============================>.] - ETA: 0s - loss: 27294685366.0444WARNING:tensorflow:Early stopping conditioned on metric `val_loss` which is not available. Available metrics are: loss\n",
      "1460/1460 [==============================] - 0s 175us/sample - loss: 27170910415.6055\n",
      "Epoch 17/30\n",
      "1312/1460 [=========================>....] - ETA: 0s - loss: 25528660767.2195WARNING:tensorflow:Early stopping conditioned on metric `val_loss` which is not available. Available metrics are: loss\n",
      "1460/1460 [==============================] - 0s 252us/sample - loss: 25331675461.4356\n",
      "Epoch 18/30\n",
      "1312/1460 [=========================>....] - ETA: 0s - loss: 23509404796.8780WARNING:tensorflow:Early stopping conditioned on metric `val_loss` which is not available. Available metrics are: loss\n",
      "1460/1460 [==============================] - 0s 181us/sample - loss: 23360469923.4192\n",
      "Epoch 19/30\n",
      "1440/1460 [============================>.] - ETA: 0s - loss: 21227267663.6444WARNING:tensorflow:Early stopping conditioned on metric `val_loss` which is not available. Available metrics are: loss\n",
      "1460/1460 [==============================] - 0s 163us/sample - loss: 21128520852.6904\n",
      "Epoch 20/30\n",
      "1408/1460 [===========================>..] - ETA: 0s - loss: 18936040680.7273WARNING:tensorflow:Early stopping conditioned on metric `val_loss` which is not available. Available metrics are: loss\n",
      "1460/1460 [==============================] - 0s 175us/sample - loss: 18793529097.1178\n",
      "Epoch 21/30\n",
      "1440/1460 [============================>.] - ETA: 0s - loss: 16576286151.1111WARNING:tensorflow:Early stopping conditioned on metric `val_loss` which is not available. Available metrics are: loss\n",
      "1460/1460 [==============================] - 0s 192us/sample - loss: 16491424263.0137\n",
      "Epoch 22/30\n",
      "1312/1460 [=========================>....] - ETA: 0s - loss: 14538186414.8293WARNING:tensorflow:Early stopping conditioned on metric `val_loss` which is not available. Available metrics are: loss\n",
      "1460/1460 [==============================] - 0s 180us/sample - loss: 14306206442.2575\n",
      "Epoch 23/30\n",
      "1344/1460 [==========================>...] - ETA: 0s - loss: 12138138794.6667WARNING:tensorflow:Early stopping conditioned on metric `val_loss` which is not available. Available metrics are: loss\n",
      "1460/1460 [==============================] - 0s 148us/sample - loss: 12299782404.9096\n",
      "Epoch 24/30\n",
      "1216/1460 [=======================>......] - ETA: 0s - loss: 10605238379.7895WARNING:tensorflow:Early stopping conditioned on metric `val_loss` which is not available. Available metrics are: loss\n",
      "1460/1460 [==============================] - 0s 148us/sample - loss: 10521030024.7671\n",
      "Epoch 25/30\n",
      "1248/1460 [========================>.....] - ETA: 0s - loss: 8923730438.5641WARNING:tensorflow:Early stopping conditioned on metric `val_loss` which is not available. Available metrics are: loss\n",
      "1460/1460 [==============================] - 0s 142us/sample - loss: 8996199544.6356\n",
      "Epoch 26/30\n",
      "1408/1460 [===========================>..] - ETA: 0s - loss: 7879952209.4545WARNING:tensorflow:Early stopping conditioned on metric `val_loss` which is not available. Available metrics are: loss\n",
      "1460/1460 [==============================] - 0s 142us/sample - loss: 7746364187.3534\n",
      "Epoch 27/30\n",
      "1056/1460 [====================>.........] - ETA: 0s - loss: 6828505654.3030WARNING:tensorflow:Early stopping conditioned on metric `val_loss` which is not available. Available metrics are: loss\n",
      "1460/1460 [==============================] - 0s 198us/sample - loss: 6746529415.3644\n",
      "Epoch 28/30\n"
     ]
    },
    {
     "name": "stdout",
     "output_type": "stream",
     "text": [
      "1312/1460 [=========================>....] - ETA: 0s - loss: 5656210163.5122WARNING:tensorflow:Early stopping conditioned on metric `val_loss` which is not available. Available metrics are: loss\n",
      "1460/1460 [==============================] - 0s 137us/sample - loss: 5994871636.1644\n",
      "Epoch 29/30\n",
      "1280/1460 [=========================>....] - ETA: 0s - loss: 5367800518.4000WARNING:tensorflow:Early stopping conditioned on metric `val_loss` which is not available. Available metrics are: loss\n",
      "1460/1460 [==============================] - 0s 181us/sample - loss: 5453282945.7534\n",
      "Epoch 30/30\n",
      "1248/1460 [========================>.....] - ETA: 0s - loss: 4992491572.5128WARNING:tensorflow:Early stopping conditioned on metric `val_loss` which is not available. Available metrics are: loss\n",
      "1460/1460 [==============================] - 0s 178us/sample - loss: 5069838479.0795\n"
     ]
    },
    {
     "data": {
      "text/plain": [
       "<tensorflow.python.keras.callbacks.History at 0x2b346a7e8d0>"
      ]
     },
     "execution_count": 43,
     "metadata": {},
     "output_type": "execute_result"
    }
   ],
   "source": [
    "model.fit(x,y, epochs=30,callbacks=[tf.keras.callbacks.EarlyStopping(patience=5)])"
   ]
  },
  {
   "cell_type": "code",
   "execution_count": 44,
   "metadata": {},
   "outputs": [
    {
     "name": "stdout",
     "output_type": "stream",
     "text": [
      "[[184209.52]]\n"
     ]
    }
   ],
   "source": [
    "test_data = np.array([2003, 854, 1710, 2, 1, 3, 8, 2008])\n",
    "print(model.predict(test_data.reshape(1,8), batch_size=1))"
   ]
  }
 ],
 "metadata": {
  "kernelspec": {
   "display_name": "Python 3",
   "language": "python",
   "name": "python3"
  },
  "language_info": {
   "codemirror_mode": {
    "name": "ipython",
    "version": 3
   },
   "file_extension": ".py",
   "mimetype": "text/x-python",
   "name": "python",
   "nbconvert_exporter": "python",
   "pygments_lexer": "ipython3",
   "version": "3.6.2"
  }
 },
 "nbformat": 4,
 "nbformat_minor": 4
}
